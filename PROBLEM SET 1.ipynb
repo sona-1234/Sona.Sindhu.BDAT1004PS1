{
 "cells": [
  {
   "cell_type": "markdown",
   "id": "f498db95",
   "metadata": {},
   "source": [
    "## Problem Set 1\n",
    "## Question 1 : What data type is each of the following (evaluate where necessary)?\n"
   ]
  },
  {
   "cell_type": "code",
   "execution_count": 1,
   "id": "dbcecd53",
   "metadata": {},
   "outputs": [
    {
     "data": {
      "text/plain": [
       "int"
      ]
     },
     "execution_count": 1,
     "metadata": {},
     "output_type": "execute_result"
    }
   ],
   "source": [
    "type(5)"
   ]
  },
  {
   "cell_type": "code",
   "execution_count": 2,
   "id": "46565ef8",
   "metadata": {},
   "outputs": [
    {
     "data": {
      "text/plain": [
       "float"
      ]
     },
     "execution_count": 2,
     "metadata": {},
     "output_type": "execute_result"
    }
   ],
   "source": [
    "type(5.0)"
   ]
  },
  {
   "cell_type": "code",
   "execution_count": 3,
   "id": "9a007db2",
   "metadata": {},
   "outputs": [
    {
     "data": {
      "text/plain": [
       "bool"
      ]
     },
     "execution_count": 3,
     "metadata": {},
     "output_type": "execute_result"
    }
   ],
   "source": [
    "type(5>1)"
   ]
  },
  {
   "cell_type": "code",
   "execution_count": 4,
   "id": "6ab4a060",
   "metadata": {},
   "outputs": [
    {
     "data": {
      "text/plain": [
       "str"
      ]
     },
     "execution_count": 4,
     "metadata": {},
     "output_type": "execute_result"
    }
   ],
   "source": [
    "type('5')"
   ]
  },
  {
   "cell_type": "code",
   "execution_count": 5,
   "id": "9338743d",
   "metadata": {},
   "outputs": [
    {
     "data": {
      "text/plain": [
       "int"
      ]
     },
     "execution_count": 5,
     "metadata": {},
     "output_type": "execute_result"
    }
   ],
   "source": [
    "type(5 * 2)\n"
   ]
  },
  {
   "cell_type": "code",
   "execution_count": 6,
   "id": "3edd7e08",
   "metadata": {},
   "outputs": [
    {
     "data": {
      "text/plain": [
       "str"
      ]
     },
     "execution_count": 6,
     "metadata": {},
     "output_type": "execute_result"
    }
   ],
   "source": [
    "type('5' * 2)"
   ]
  },
  {
   "cell_type": "code",
   "execution_count": 7,
   "id": "204ab15f",
   "metadata": {},
   "outputs": [
    {
     "data": {
      "text/plain": [
       "str"
      ]
     },
     "execution_count": 7,
     "metadata": {},
     "output_type": "execute_result"
    }
   ],
   "source": [
    "type('5' + '2')"
   ]
  },
  {
   "cell_type": "code",
   "execution_count": 8,
   "id": "d0b85e07",
   "metadata": {},
   "outputs": [
    {
     "data": {
      "text/plain": [
       "float"
      ]
     },
     "execution_count": 8,
     "metadata": {},
     "output_type": "execute_result"
    }
   ],
   "source": [
    "type(5 / 2)"
   ]
  },
  {
   "cell_type": "code",
   "execution_count": 9,
   "id": "2b0393d2",
   "metadata": {},
   "outputs": [
    {
     "data": {
      "text/plain": [
       "int"
      ]
     },
     "execution_count": 9,
     "metadata": {},
     "output_type": "execute_result"
    }
   ],
   "source": [
    "type(5 % 2)"
   ]
  },
  {
   "cell_type": "code",
   "execution_count": 10,
   "id": "e8178211",
   "metadata": {},
   "outputs": [
    {
     "data": {
      "text/plain": [
       "set"
      ]
     },
     "execution_count": 10,
     "metadata": {},
     "output_type": "execute_result"
    }
   ],
   "source": [
    "type({5, 2, 1})"
   ]
  },
  {
   "cell_type": "code",
   "execution_count": 11,
   "id": "540943bd",
   "metadata": {},
   "outputs": [
    {
     "data": {
      "text/plain": [
       "bool"
      ]
     },
     "execution_count": 11,
     "metadata": {},
     "output_type": "execute_result"
    }
   ],
   "source": [
    "type(5 == 3)"
   ]
  },
  {
   "cell_type": "code",
   "execution_count": 12,
   "id": "dc958341",
   "metadata": {},
   "outputs": [
    {
     "data": {
      "text/plain": [
       "float"
      ]
     },
     "execution_count": 12,
     "metadata": {},
     "output_type": "execute_result"
    }
   ],
   "source": [
    "pi = 3.14\n",
    "type(pi)"
   ]
  },
  {
   "cell_type": "markdown",
   "id": "9cd129f4",
   "metadata": {},
   "source": [
    "## Question 2 : Write (and evaluate) python expressions that answer these questions:\n"
   ]
  },
  {
   "cell_type": "markdown",
   "id": "78aa1cd5",
   "metadata": {},
   "source": [
    "## a. How many letters are there in 'Supercalifragilisticexpialidocious'?"
   ]
  },
  {
   "cell_type": "code",
   "execution_count": 13,
   "id": "419891b8",
   "metadata": {},
   "outputs": [
    {
     "name": "stdout",
     "output_type": "stream",
     "text": [
      "34\n"
     ]
    }
   ],
   "source": [
    "word =  'Supercalifragilisticexpialidocious'\n",
    "letters = len(word)\n",
    "print(letters)"
   ]
  },
  {
   "cell_type": "markdown",
   "id": "69223ee9",
   "metadata": {},
   "source": [
    "## b. Does 'Supercalifragilisticexpialidocious' contain 'ice' as a substring?"
   ]
  },
  {
   "cell_type": "code",
   "execution_count": 14,
   "id": "4752c177",
   "metadata": {},
   "outputs": [
    {
     "name": "stdout",
     "output_type": "stream",
     "text": [
      "True\n"
     ]
    }
   ],
   "source": [
    "string = 'Supercalifragilisticexpialidocious'\n",
    "substring = 'ice'\n",
    "contains_substring = substring in string\n",
    "print(contains_substring)"
   ]
  },
  {
   "cell_type": "markdown",
   "id": "3390a535",
   "metadata": {},
   "source": [
    "## c. Which of the following words is the longest:"
   ]
  },
  {
   "cell_type": "markdown",
   "id": "78d7bfbe",
   "metadata": {},
   "source": [
    "## Supercalifragilisticexpialidocious, Honorificabilitudinitatibus, or\n",
    "## Bababadalgharaghtakamminarronnkonn?"
   ]
  },
  {
   "cell_type": "code",
   "execution_count": 15,
   "id": "ad039804",
   "metadata": {},
   "outputs": [
    {
     "name": "stdout",
     "output_type": "stream",
     "text": [
      "Longest word =  Supercalifragilisticexpialidocious\n"
     ]
    }
   ],
   "source": [
    "word1 =  'Supercalifragilisticexpialidocious'\n",
    "word2 =  'Honorificabilitudinitatibus'\n",
    "word3 =   'Bababadalgharaghtakamminarronnkonn'\n",
    "\n",
    "if word1>word2:\n",
    "        if word1>word3:\n",
    "            print(\"Longest word = \" ,word1)\n",
    "        elif word1==word2:\n",
    "            print(\"Both the words Supercalifragilisticexpialidocious and Bababadalgharaghtakamminarronnkonn are equal.\")\n",
    "elif word2>word3:\n",
    "    print(\"The longest word is:\", word2)"
   ]
  },
  {
   "cell_type": "markdown",
   "id": "e96c58dd",
   "metadata": {},
   "source": [
    "## d. Which composer comes first in the dictionary: 'Berlioz', 'Borodin', 'Brian',"
   ]
  },
  {
   "cell_type": "markdown",
   "id": "94c117aa",
   "metadata": {},
   "source": [
    "## 'Bartok', 'Bellini', 'Buxtehude', 'Bernstein'. Which one comes last?"
   ]
  },
  {
   "cell_type": "code",
   "execution_count": 16,
   "id": "cdf80515",
   "metadata": {},
   "outputs": [
    {
     "name": "stdout",
     "output_type": "stream",
     "text": [
      "The composer who comes first in the dictionary is Berlioz\n",
      "The composer who comes last in the dictionary is Bernstein\n"
     ]
    }
   ],
   "source": [
    "composer = ['Berlioz', 'Borodin', 'Brian','Bartok', 'Bellini', 'Buxtehude', 'Bernstein']\n",
    "print (\"The composer who comes first in the dictionary is\", composer[0])\n",
    "print(\"The composer who comes last in the dictionary is\",composer[-1])"
   ]
  },
  {
   "cell_type": "markdown",
   "id": "512908a5",
   "metadata": {},
   "source": [
    "## Question 3"
   ]
  },
  {
   "cell_type": "markdown",
   "id": "4eb46ce9",
   "metadata": {},
   "source": [
    "## Implement function triangleArea(a,b,c) that takes as input the lengths of the 3\n",
    "## sides of a triangle and returns the area of the triangle. By Heron's formula, the area"
   ]
  },
  {
   "cell_type": "markdown",
   "id": "3f468a9d",
   "metadata": {},
   "source": [
    "## of a triangle with side lengths a, b, and c is"
   ]
  },
  {
   "cell_type": "markdown",
   "id": "4dd9942a",
   "metadata": {},
   "source": [
    "## s(s - a)(s -b)(s -c)\n",
    "## , where"
   ]
  },
  {
   "cell_type": "markdown",
   "id": "f1df6a12",
   "metadata": {},
   "source": [
    "## s = (a+b+c)/2."
   ]
  },
  {
   "cell_type": "code",
   "execution_count": 17,
   "id": "51e5c5b7",
   "metadata": {},
   "outputs": [],
   "source": [
    "import math\n",
    "def sides(a,b,c):\n",
    "    s = (a+b+c)/2\n",
    "    Area = math.sqrt(s*(s-a)*(s-b)*(s-c))\n",
    "    return Area"
   ]
  },
  {
   "cell_type": "code",
   "execution_count": 18,
   "id": "a1b57d21",
   "metadata": {},
   "outputs": [
    {
     "data": {
      "text/plain": [
       "1.7320508075688772"
      ]
     },
     "execution_count": 18,
     "metadata": {},
     "output_type": "execute_result"
    }
   ],
   "source": [
    "sides(2,2,2)"
   ]
  },
  {
   "cell_type": "markdown",
   "id": "3f514a1e",
   "metadata": {},
   "source": [
    "## Question 4"
   ]
  },
  {
   "cell_type": "markdown",
   "id": "e7cde1b9",
   "metadata": {},
   "source": [
    "## Write a program in python to separate odd and even integers in separate arrays"
   ]
  },
  {
   "cell_type": "code",
   "execution_count": 19,
   "id": "860a8ec5",
   "metadata": {},
   "outputs": [
    {
     "name": "stdout",
     "output_type": "stream",
     "text": [
      "The even values are:  [42, 56, 32]\n",
      "The odd values are:  [27, 47]\n"
     ]
    }
   ],
   "source": [
    "elements = [27,47,42,56,32]\n",
    "\n",
    "even = []\n",
    "odd = []\n",
    "for num in elements:\n",
    "    \n",
    "    if num %2 == 0:\n",
    "        even.append(num)\n",
    "    else:\n",
    "        odd.append(num)\n",
    "print(\"The even values are: \", even)\n",
    "print(\"The odd values are: \",odd)"
   ]
  },
  {
   "cell_type": "markdown",
   "id": "728ec4e7",
   "metadata": {},
   "source": [
    "## Question 5"
   ]
  },
  {
   "cell_type": "markdown",
   "id": "43ddb035",
   "metadata": {},
   "source": [
    "## a. Write a function inside(x,y,x1,y1,x2,y2) that returns True or False\n",
    "## depending on whether the point (x,y) lies in the rectangle with lower left"
   ]
  },
  {
   "cell_type": "markdown",
   "id": "9fe7c533",
   "metadata": {},
   "source": [
    "## corner (x1,y1) and upper right corner (x2,y2)."
   ]
  },
  {
   "cell_type": "code",
   "execution_count": 20,
   "id": "fbbdabf6",
   "metadata": {},
   "outputs": [],
   "source": [
    "def inside(x,y,x1,y1,x2,y2):\n",
    "    if x >= x1 and x <= x2 and y >= y1 and y <= y2:\n",
    "        return True\n",
    "    else:\n",
    "        return False"
   ]
  },
  {
   "cell_type": "code",
   "execution_count": 21,
   "id": "ecd1aa92",
   "metadata": {},
   "outputs": [
    {
     "data": {
      "text/plain": [
       "True"
      ]
     },
     "execution_count": 21,
     "metadata": {},
     "output_type": "execute_result"
    }
   ],
   "source": [
    "inside(1,1,0,0,2,3)"
   ]
  },
  {
   "cell_type": "code",
   "execution_count": 22,
   "id": "30f2cb01",
   "metadata": {},
   "outputs": [
    {
     "data": {
      "text/plain": [
       "False"
      ]
     },
     "execution_count": 22,
     "metadata": {},
     "output_type": "execute_result"
    }
   ],
   "source": [
    "inside(-1,-1,0,0,2,3)"
   ]
  },
  {
   "cell_type": "markdown",
   "id": "9a37c235",
   "metadata": {},
   "source": [
    "## b. Use function inside() from part a. to write an expression that tests whether"
   ]
  },
  {
   "cell_type": "markdown",
   "id": "ac29b299",
   "metadata": {},
   "source": [
    "## the point (1,1) lies in both of the following rectangles: one with lower left\n",
    "## corner (0.3, 0.5) and upper right corner (1.1, 0.7) and the other with lower"
   ]
  },
  {
   "cell_type": "markdown",
   "id": "6787a7e3",
   "metadata": {},
   "source": [
    "## left corner (0.5, 0.2) and upper right corner (1.1, 2)."
   ]
  },
  {
   "cell_type": "code",
   "execution_count": 23,
   "id": "4414d342",
   "metadata": {},
   "outputs": [
    {
     "data": {
      "text/plain": [
       "False"
      ]
     },
     "execution_count": 23,
     "metadata": {},
     "output_type": "execute_result"
    }
   ],
   "source": [
    "inside(1,1,0.3,0.5,1.1,0.7)"
   ]
  },
  {
   "cell_type": "code",
   "execution_count": 24,
   "id": "d0d8c0d5",
   "metadata": {},
   "outputs": [
    {
     "data": {
      "text/plain": [
       "True"
      ]
     },
     "execution_count": 24,
     "metadata": {},
     "output_type": "execute_result"
    }
   ],
   "source": [
    "inside(1,1,0.5,0.2,1.1,2)"
   ]
  },
  {
   "cell_type": "markdown",
   "id": "cd89cbfb",
   "metadata": {},
   "source": [
    "## Question 6"
   ]
  },
  {
   "cell_type": "markdown",
   "id": "7c7ca556",
   "metadata": {},
   "source": [
    "## 16. You can turn a word into pig-Latin using the following two rules (simplified):"
   ]
  },
  {
   "cell_type": "markdown",
   "id": "3f9fa609",
   "metadata": {},
   "source": [
    "## • If the word starts with a consonant, move that letter to the end and append\n",
    "## 'ay'. For example, 'happy' becomes 'appyhay' and 'pencil' becomes 'encilpay'."
   ]
  },
  {
   "cell_type": "markdown",
   "id": "f9211132",
   "metadata": {},
   "source": [
    "## • If the word starts with a vowel, simply append 'way' to the end of the word."
   ]
  },
  {
   "cell_type": "markdown",
   "id": "f1afba45",
   "metadata": {},
   "source": [
    "## For example, 'enter' becomes 'enterway' and 'other' becomes 'otherway' . For\n",
    "## our purposes, there are 5 vowels: a, e, i, o, u (so we count y as a consonant)."
   ]
  },
  {
   "cell_type": "markdown",
   "id": "aa91aac4",
   "metadata": {},
   "source": [
    "## Write a function pig() that takes a word (i.e., a string) as input and returns its pigLatin form. Your function should still work if the input word contains upper case\n",
    "## characters. Your output should always be lower case however"
   ]
  },
  {
   "cell_type": "code",
   "execution_count": 25,
   "id": "c3293b57",
   "metadata": {},
   "outputs": [],
   "source": [
    "def pig(word):\n",
    "    wd = word.lower()\n",
    "    vowels=['a','e','i','o','u']\n",
    "    if wd[0] in vowels:\n",
    "        print('pig latin word is',wd+'way')\n",
    "    else :\n",
    "        print('pig latin word is',wd[1:]+wd[0]+'ay')"
   ]
  },
  {
   "cell_type": "code",
   "execution_count": 26,
   "id": "f928ab7a",
   "metadata": {},
   "outputs": [
    {
     "name": "stdout",
     "output_type": "stream",
     "text": [
      "pig latin word is appyhay\n"
     ]
    }
   ],
   "source": [
    "pig('happy')"
   ]
  },
  {
   "cell_type": "code",
   "execution_count": 27,
   "id": "868add4d",
   "metadata": {},
   "outputs": [
    {
     "name": "stdout",
     "output_type": "stream",
     "text": [
      "pig latin word is enterway\n"
     ]
    }
   ],
   "source": [
    "pig('enter')"
   ]
  },
  {
   "cell_type": "markdown",
   "id": "eccb3b0c",
   "metadata": {},
   "source": [
    "## Question 7"
   ]
  },
  {
   "cell_type": "markdown",
   "id": "59ee13a0",
   "metadata": {},
   "source": [
    "## File bloodtype1.txt records blood-types of patients (A, B, AB, O or OO) at a clinic."
   ]
  },
  {
   "cell_type": "markdown",
   "id": "8a72480e",
   "metadata": {},
   "source": [
    "## Write a function bldcount() that reads the file with name name and reports (i.e.,\n",
    "## prints) how many patients there are in each bloodtype."
   ]
  },
  {
   "cell_type": "code",
   "execution_count": 28,
   "id": "8555731b",
   "metadata": {},
   "outputs": [],
   "source": [
    "def bloodcount(name):\n",
    "    bldcount= {'A':0,'B':0,'AB':0,'O':0,'OO':0}\n",
    "    bldlist = name.split()\n",
    "    for bld in bldlist:\n",
    "        if bld in bldcount:\n",
    "            bldcount[bld]+=1\n",
    "    return bldcount"
   ]
  },
  {
   "cell_type": "code",
   "execution_count": 32,
   "id": "0e0b22d0",
   "metadata": {},
   "outputs": [
    {
     "data": {
      "text/plain": [
       "{'A': 15, 'B': 1, 'AB': 13, 'O': 15, 'OO': 0}"
      ]
     },
     "execution_count": 32,
     "metadata": {},
     "output_type": "execute_result"
    }
   ],
   "source": [
    "filename = open('C:\\\\Users\\\\user\\\\Downloads\\\\DP\\\\SONA.txt','r')\n",
    "bloodcount(filename.readline())"
   ]
  },
  {
   "cell_type": "markdown",
   "id": "1d983b85",
   "metadata": {},
   "source": [
    "## Question 8"
   ]
  },
  {
   "cell_type": "markdown",
   "id": "10009fcd",
   "metadata": {},
   "source": [
    "## Write a function curconv() that takes as input:"
   ]
  },
  {
   "cell_type": "markdown",
   "id": "3af6efad",
   "metadata": {},
   "source": [
    "## 1. a currency represented using a string (e.g., 'JPY' for the Japanese Yen or\n",
    "## 'EUR' for the Euro)"
   ]
  },
  {
   "cell_type": "markdown",
   "id": "f54fce92",
   "metadata": {},
   "source": [
    "## 2. an amount\n",
    "## and then converts and returns the amount in US dollars."
   ]
  },
  {
   "cell_type": "code",
   "execution_count": 33,
   "id": "e97107a5",
   "metadata": {},
   "outputs": [],
   "source": [
    "def curconv(cur,amt):\n",
    "    currates = {'AUD': 1.0345157,'CHF':1.0237414 ,'CNY':0.1550176,'DKK':0.1651442,'EUR':1.2296544 ,'GBP':1.5550989,'HKD':0.1270207, 'INR':0.0177643, 'JPY':0.01241401, 'MXN':0.0751848,'MYR':0.3145411, 'NOK':0.1677063,'NZD':0.8003591,'PHP':0.0233234,'SEK':0.148269,'SGD':0.788871,'THB':0.0313789}\n",
    "   \n",
    "    if cur in currates:\n",
    "        usdconv = currates[cur]*amt\n",
    "        \n",
    "    return usdconv"
   ]
  },
  {
   "cell_type": "code",
   "execution_count": 34,
   "id": "c48d028e",
   "metadata": {},
   "outputs": [
    {
     "data": {
      "text/plain": [
       "122.96544"
      ]
     },
     "execution_count": 34,
     "metadata": {},
     "output_type": "execute_result"
    }
   ],
   "source": [
    "curconv('EUR', 100)"
   ]
  },
  {
   "cell_type": "code",
   "execution_count": 35,
   "id": "b4f55cf5",
   "metadata": {},
   "outputs": [
    {
     "data": {
      "text/plain": [
       "1.241401"
      ]
     },
     "execution_count": 35,
     "metadata": {},
     "output_type": "execute_result"
    }
   ],
   "source": [
    "curconv('JPY', 100)"
   ]
  },
  {
   "cell_type": "markdown",
   "id": "233953d0",
   "metadata": {},
   "source": [
    "## Question 9"
   ]
  },
  {
   "cell_type": "markdown",
   "id": "2d4b89aa",
   "metadata": {},
   "source": [
    "## Each of the following will cause an exception (an error). Identify what type of\n",
    "## exception each will cause"
   ]
  },
  {
   "cell_type": "markdown",
   "id": "7710b362",
   "metadata": {},
   "source": [
    "## 1.Trying to add incompatible variables, as in\n",
    "## adding 6 + ‘a’\n",
    "\n",
    "\n",
    "These will give a 'TypeError' as these are different datatypes."
   ]
  },
  {
   "cell_type": "code",
   "execution_count": null,
   "id": "025b45ef",
   "metadata": {},
   "outputs": [],
   "source": [
    "#Example\n",
    "print(6+'a')\n",
    "\n",
    "\n",
    "\n",
    "\n",
    "#Error=unsupported operand type(s) for +: 'int' and 'str'"
   ]
  },
  {
   "cell_type": "markdown",
   "id": "13f6b85a",
   "metadata": {},
   "source": [
    "## 2.Referring to the 12th item of a list that has only 10\n",
    "## items"
   ]
  },
  {
   "cell_type": "markdown",
   "id": "7f7a9545",
   "metadata": {},
   "source": [
    "This will give you an 'IndexError' as the list that containing 10 items, the last elements index will be 9"
   ]
  },
  {
   "cell_type": "code",
   "execution_count": null,
   "id": "bcfd94f3",
   "metadata": {},
   "outputs": [],
   "source": [
    "#Example\n",
    "my_list = [1,2,3,4,5,6,7,8,9,10]\n",
    "print(my_list[12])\n",
    "\n",
    "\n",
    "\n",
    "\n",
    "#Error = list index out of range"
   ]
  },
  {
   "cell_type": "markdown",
   "id": "0a5c410b",
   "metadata": {},
   "source": [
    "## 3.Using a value that is out of range for a function’s\n",
    "## input, such as calling math.sqrt(-1.0)"
   ]
  },
  {
   "cell_type": "markdown",
   "id": "db9d2832",
   "metadata": {},
   "source": [
    "This will give a 'ValueError'"
   ]
  },
  {
   "cell_type": "code",
   "execution_count": null,
   "id": "67b6448b",
   "metadata": {},
   "outputs": [],
   "source": [
    "#Example\n",
    "user_input = int(\"Enter a number:\")\n",
    "number = int(user_input)\n",
    "print(number)\n",
    "\n",
    "\n",
    "\n",
    "\n",
    "\n",
    "#Error = math domain error"
   ]
  },
  {
   "cell_type": "markdown",
   "id": "01887ca9",
   "metadata": {},
   "source": [
    "## 4.Using an undeclared variable, such as print(x)\n",
    "## when x has not been defined"
   ]
  },
  {
   "cell_type": "markdown",
   "id": "5d9cccdf",
   "metadata": {},
   "source": [
    "This will give a 'NameError' as the varibale has not been declared."
   ]
  },
  {
   "cell_type": "code",
   "execution_count": 42,
   "id": "5d93f3f9",
   "metadata": {},
   "outputs": [
    {
     "ename": "NameError",
     "evalue": "name 'x' is not defined",
     "output_type": "error",
     "traceback": [
      "\u001b[1;31m---------------------------------------------------------------------------\u001b[0m",
      "\u001b[1;31mNameError\u001b[0m                                 Traceback (most recent call last)",
      "Cell \u001b[1;32mIn[42], line 3\u001b[0m\n\u001b[0;32m      1\u001b[0m \u001b[38;5;66;03m#Example\u001b[39;00m\n\u001b[0;32m      2\u001b[0m y\u001b[38;5;241m=\u001b[39m\u001b[38;5;241m10\u001b[39m \n\u001b[1;32m----> 3\u001b[0m \u001b[38;5;28mprint\u001b[39m(\u001b[43mx\u001b[49m)\n",
      "\u001b[1;31mNameError\u001b[0m: name 'x' is not defined"
     ]
    }
   ],
   "source": [
    "#Example\n",
    "y=10 \n",
    "print(x)\n",
    "\n",
    "\n",
    "\n",
    "\n",
    "#Error = name 'x' is not defined"
   ]
  },
  {
   "cell_type": "markdown",
   "id": "826a42b7",
   "metadata": {},
   "source": [
    "## .Trying to open a file that does not exist, such as\n",
    "## mistyping the file name or looking in the wrong\n",
    "## directory."
   ]
  },
  {
   "cell_type": "markdown",
   "id": "2113fc47",
   "metadata": {},
   "source": [
    "file_path = \"nonexistent_file.txt\"\n",
    "with open(file_path,\"r\") as file:\n",
    "    content= file.read()\n",
    "    print(content)\n",
    "    \n",
    "    \n",
    "    \n",
    "    \n",
    "    \n",
    "#Error =No such file or directory:'python.txt'"
   ]
  },
  {
   "cell_type": "markdown",
   "id": "70267370",
   "metadata": {},
   "source": [
    "## Question 10"
   ]
  },
  {
   "cell_type": "markdown",
   "id": "d3310ebc",
   "metadata": {},
   "source": [
    "## Encryption is the process of hiding the meaning of a text by substituting letters in the\n",
    "\n",
    "## message with other letters, according to some system. If the process is successful, no\n",
    "\n",
    "## one but the intended recipient can understand the encrypted message. Cryptanalysis\n",
    "\n",
    "## refers to attempts to undo the encryption, even if some details of the encryption are\n",
    "\n",
    "## unknown (for example, if an encrypted message has been intercepted). The first step\n",
    "\n",
    "## of cryptanalysis is often to build up a table of letter frequencies in the encrypted text."
   ]
  },
  {
   "cell_type": "markdown",
   "id": "82fab1cd",
   "metadata": {},
   "source": [
    "## Assume that the string letters is already defined as\n",
    "\n",
    "## 'abcdefghijklmnopqrstuvwxyz'. Write a function called frequencies()\n",
    "\n",
    "## that takes a string as its only parameter, and returns a list of integers, showing the\n",
    "\n",
    "## number of times each character appears in the text. Your function may ignore any\n",
    "\n",
    "## characters that are not in letters."
   ]
  },
  {
   "cell_type": "code",
   "execution_count": 44,
   "id": "830229b4",
   "metadata": {},
   "outputs": [],
   "source": [
    "def frequencies(text):\n",
    "    lwrcase = text.lower()\n",
    "    letters ='abcdefghijklmnopqrstuvwxyz'\n",
    "    freq = [0]*26\n",
    "    for char in lwrcase:\n",
    "        if char in letters:\n",
    "            index=letters.index(char)\n",
    "            freq[index] +=1\n",
    "        else:\n",
    "            freq[index]=1\n",
    "    return freq"
   ]
  },
  {
   "cell_type": "code",
   "execution_count": 45,
   "id": "66e9cafc",
   "metadata": {},
   "outputs": [
    {
     "data": {
      "text/plain": [
       "[1, 1, 1, 1, 5, 1, 1, 2, 1, 0, 1, 0, 1, 2, 4, 0, 1, 2, 0, 1, 1, 0, 1, 1, 0, 0]"
      ]
     },
     "execution_count": 45,
     "metadata": {},
     "output_type": "execute_result"
    }
   ],
   "source": [
    "frequencies('The quick red fox got bored and went home')"
   ]
  },
  {
   "cell_type": "code",
   "execution_count": 46,
   "id": "39187a5e",
   "metadata": {},
   "outputs": [
    {
     "data": {
      "text/plain": [
       "[1, 0, 0, 0, 1, 0, 0, 0, 0, 0, 0, 1, 0, 0, 0, 2, 0, 0, 0, 0, 0, 0, 0, 0, 0, 0]"
      ]
     },
     "execution_count": 46,
     "metadata": {},
     "output_type": "execute_result"
    }
   ],
   "source": [
    "frequencies('apple')"
   ]
  },
  {
   "cell_type": "code",
   "execution_count": null,
   "id": "1e1a3fab",
   "metadata": {},
   "outputs": [],
   "source": []
  }
 ],
 "metadata": {
  "kernelspec": {
   "display_name": "Python 3 (ipykernel)",
   "language": "python",
   "name": "python3"
  },
  "language_info": {
   "codemirror_mode": {
    "name": "ipython",
    "version": 3
   },
   "file_extension": ".py",
   "mimetype": "text/x-python",
   "name": "python",
   "nbconvert_exporter": "python",
   "pygments_lexer": "ipython3",
   "version": "3.10.9"
  }
 },
 "nbformat": 4,
 "nbformat_minor": 5
}
